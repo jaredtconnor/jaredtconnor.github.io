{
 "cells": [
  {
   "cell_type": "markdown",
   "metadata": {},
   "source": [
    "#Creating my first neural network:\n",
    "\n",
    "I've been wanting to explore neural networks for sometime, largely given their hype, but also my precieved advantages for them. Coming from an econometrics background, is and has been illustrated increasinly at my current job, parametric and econometric models have a lot of up sides, but a bunch of downsides as well, mainly a model's specification and required tuning and analysis. For a simple research question, a linear or multi-linear regression is a tried and true approach for inferance and prediction purposes. Yet, as systems begin to scale, even just by an simple order of magnitude, it becomes quite difficult to keep that same desired level of control over the respective models. \n",
    "\n",
    "Because of that, I wanted to explore non-traditional statistical/machine learning models. To do so, I explored [TensorFlow's own introductory tutorial](https://www.tensorflow.org/tutorials/keras/basic_classification) for classification. It comprised of getting an understanding of their platform, the basic work flow for a TensorFlow machine learning problem through Python. With a final result of 88% accuracy on classifing clothing images from the [Fashion MINST](https://github.com/zalandoresearch/fashion-mnist) dataset within an hour, the simplicity of the platform blew me away. \n",
    "\n",
    "\n",
    "\n",
    "\n"
   ]
  }
 ],
 "metadata": {
  "kernelspec": {
   "display_name": "Python 3",
   "language": "python",
   "name": "python3"
  },
  "language_info": {
   "codemirror_mode": {
    "name": "ipython",
    "version": 3
   },
   "file_extension": ".py",
   "mimetype": "text/x-python",
   "name": "python",
   "nbconvert_exporter": "python",
   "pygments_lexer": "ipython3",
   "version": "3.6.3"
  }
 },
 "nbformat": 4,
 "nbformat_minor": 2
}
